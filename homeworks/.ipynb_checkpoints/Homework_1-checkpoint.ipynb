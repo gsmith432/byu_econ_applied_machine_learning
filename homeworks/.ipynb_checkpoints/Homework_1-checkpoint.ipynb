{
 "cells": [
  {
   "cell_type": "markdown",
   "metadata": {},
   "source": [
    "## Data Cleaning, Describing, and Visualization\n",
    "\n",
    "### Step 1 - Get your environment setup\n",
    "\n",
    "1. Install Git on your computer and fork the class repository on [Github](https://github.com/tfolkman/byu_econ_applied_machine_learning).\n",
    "2. Install [Anaconda](https://conda.io/docs/install/quick.html) and get it working.\n",
    "\n",
    "### Step 2 - Explore Datasets\n",
    "\n",
    "The goals of this project are:\n",
    "\n",
    "1. Read in data from multiple sources\n",
    "2. Gain practice cleaning, describing, and visualizing data\n",
    "\n",
    "To this end, you need to find from three different sources. For example: CSV, JSON, and API, SQL, or web scraping. For each of these data sets, you must perform the following:\n",
    "\n",
    "1. Data cleaning. Some options your might consider: handle missing data, handle outliers, scale the data, convert some data to categorical.\n",
    "2. Describe data. Provide tables, statistics, and summaries of your data.\n",
    "3. Visualize data. Provide visualizations of your data.\n",
    "\n",
    "These are the typical first steps of any data science project and are often the most time consuming. My hope is that in going through this process 3 different times, that you will gain a sense for it.\n",
    "\n",
    "Also, as you are doing this, please tell us a story. Explain in your notebook why are doing what you are doing and to what end. Telling a story in your analysis is a crucial skill for data scientists. There are almost an infinite amount of ways to analyze a data set; help us understand why you choose your particular path and why we should care.\n",
    "\n",
    "Also - this homework is very open-ended and we provided you with basically no starting point. I realize this increases the difficulty and complexity, but I think it is worth it. It is much closer to what you might experience in industry and allows you to find data that might excite you!\n",
    "\n",
    "### Grading\n",
    "\n",
    "This homework is due **Jan. 31, 2019 by 4:00pm Utah time.** By that time, you need to have committed all your code to your github and submitted a link to your work to the TA. We can see on your Github account when you last committed code. :)\n",
    "\n",
    "Rubric:\n",
    "\n",
    "* Code Quality - 10%\n",
    "* Ability to read in data - 10%\n",
    "* Ability to describe data - 20%\n",
    "* Ability to visualize data - 20%\n",
    "* Ability to clean data - 20%\n",
    "* Storytelling - 20%"
   ]
  },
  {
   "cell_type": "code",
   "execution_count": 80,
   "metadata": {},
   "outputs": [],
   "source": [
    "import numpy as np\n",
    "import pandas as pd\n",
    "import matplotlib.pyplot as plt\n",
    "import seaborn as sns\n",
    "import json\n",
    "import sqlite3\n",
    "import csv\n",
    "%matplotlib inline\n",
    "plt.rcParams['figure.figsize'] = [15,8]"
   ]
  },
  {
   "cell_type": "markdown",
   "metadata": {},
   "source": [
    "## Importing Files"
   ]
  },
  {
   "cell_type": "code",
   "execution_count": 81,
   "metadata": {},
   "outputs": [],
   "source": [
    "## Import CSV file of wine quality data.\n",
    "wine = pd.read_csv('winequality-red.csv')"
   ]
  },
  {
   "cell_type": "code",
   "execution_count": 82,
   "metadata": {},
   "outputs": [],
   "source": [
    "## Import JSON file of Pokemon player information.\n",
    "with open(\"pokedex.json\", \"r\") as f:\n",
    "    json_pokemon_data = json.load(f)\n",
    "pokemon = pd.DataFrame(json_pokemon_data['pokemon'])"
   ]
  },
  {
   "cell_type": "code",
   "execution_count": 83,
   "metadata": {},
   "outputs": [],
   "source": [
    "## Import titanic.csv file into SQL, use as a pandas Dataframe.\n",
    "sql = sqlite3.connect('tita.db')\n",
    "cur = sql.cursor()\n",
    "\n",
    "cur.execute('DROP TABLE IF EXISTS Titanic;')\n",
    "cur.execute('CREATE TABLE Titanic '\n",
    "            '(PassengerID REAL, Survived REAL, Pclass REAL, Name TEXT, Sex TEXT, Age REAL, SibSp REAL, Parch REAL, Ticket TEXT, Fare REAL, Cabin TEXT, Embarked TEXT);')\n",
    "\n",
    "with open('titanic.csv','r') as infile:\n",
    "    rows = list(csv.reader(infile))\n",
    "    cur.executemany('INSERT INTO Titanic VALUES(?,?,?,?,?,?,?,?,?,?,?,?);',rows)\n",
    "\n",
    "tita = cur.execute('SELECT * FROM Titanic').fetchall()\n",
    "cols = tita.pop(0)\n",
    "tita1 = pd.DataFrame(columns=cols)\n",
    "\n",
    "for i in range(12):\n",
    "    l = []\n",
    "    for j in range(len(tita)):\n",
    "        l.append(tita[j][i])\n",
    "    tita1.loc[:,cols[i]] = pd.Series(l)"
   ]
  },
  {
   "cell_type": "markdown",
   "metadata": {},
   "source": [
    "## CSV Wine Dataset"
   ]
  },
  {
   "cell_type": "code",
   "execution_count": 84,
   "metadata": {},
   "outputs": [
    {
     "name": "stdout",
     "output_type": "stream",
     "text": [
      "<class 'pandas.core.frame.DataFrame'>\n",
      "RangeIndex: 1599 entries, 0 to 1598\n",
      "Data columns (total 12 columns):\n",
      "fixed acidity           1599 non-null float64\n",
      "volatile acidity        1599 non-null float64\n",
      "citric acid             1599 non-null float64\n",
      "residual sugar          1599 non-null float64\n",
      "chlorides               1599 non-null float64\n",
      "free sulfur dioxide     1599 non-null float64\n",
      "total sulfur dioxide    1599 non-null float64\n",
      "density                 1599 non-null float64\n",
      "pH                      1599 non-null float64\n",
      "sulphates               1599 non-null float64\n",
      "alcohol                 1599 non-null float64\n",
      "quality                 1599 non-null int64\n",
      "dtypes: float64(11), int64(1)\n",
      "memory usage: 150.0 KB\n"
     ]
    }
   ],
   "source": [
    "## We see there is no missing data in the dataframe, which makes life a whole lot easier!\n",
    "wine.info()\n",
    "## We also see there is one columb of int64 type, thus more of a categorical data column. This is the column for \n",
    "## a machine learning problem, predicting quality by the different values. "
   ]
  },
  {
   "cell_type": "code",
   "execution_count": 85,
   "metadata": {
    "scrolled": true
   },
   "outputs": [
    {
     "data": {
      "text/html": [
       "<div>\n",
       "<style scoped>\n",
       "    .dataframe tbody tr th:only-of-type {\n",
       "        vertical-align: middle;\n",
       "    }\n",
       "\n",
       "    .dataframe tbody tr th {\n",
       "        vertical-align: top;\n",
       "    }\n",
       "\n",
       "    .dataframe thead th {\n",
       "        text-align: right;\n",
       "    }\n",
       "</style>\n",
       "<table border=\"1\" class=\"dataframe\">\n",
       "  <thead>\n",
       "    <tr style=\"text-align: right;\">\n",
       "      <th></th>\n",
       "      <th>fixed acidity</th>\n",
       "      <th>volatile acidity</th>\n",
       "      <th>citric acid</th>\n",
       "      <th>residual sugar</th>\n",
       "      <th>chlorides</th>\n",
       "      <th>free sulfur dioxide</th>\n",
       "      <th>total sulfur dioxide</th>\n",
       "      <th>density</th>\n",
       "      <th>pH</th>\n",
       "      <th>sulphates</th>\n",
       "      <th>alcohol</th>\n",
       "      <th>quality</th>\n",
       "    </tr>\n",
       "  </thead>\n",
       "  <tbody>\n",
       "    <tr>\n",
       "      <th>count</th>\n",
       "      <td>1599.000000</td>\n",
       "      <td>1599.000000</td>\n",
       "      <td>1599.000000</td>\n",
       "      <td>1599.000000</td>\n",
       "      <td>1599.000000</td>\n",
       "      <td>1599.000000</td>\n",
       "      <td>1599.000000</td>\n",
       "      <td>1599.000000</td>\n",
       "      <td>1599.000000</td>\n",
       "      <td>1599.000000</td>\n",
       "      <td>1599.000000</td>\n",
       "      <td>1599.000000</td>\n",
       "    </tr>\n",
       "    <tr>\n",
       "      <th>mean</th>\n",
       "      <td>8.319637</td>\n",
       "      <td>0.527821</td>\n",
       "      <td>0.270976</td>\n",
       "      <td>2.538806</td>\n",
       "      <td>0.087467</td>\n",
       "      <td>15.874922</td>\n",
       "      <td>46.467792</td>\n",
       "      <td>0.996747</td>\n",
       "      <td>3.311113</td>\n",
       "      <td>0.658149</td>\n",
       "      <td>10.422983</td>\n",
       "      <td>5.636023</td>\n",
       "    </tr>\n",
       "    <tr>\n",
       "      <th>std</th>\n",
       "      <td>1.741096</td>\n",
       "      <td>0.179060</td>\n",
       "      <td>0.194801</td>\n",
       "      <td>1.409928</td>\n",
       "      <td>0.047065</td>\n",
       "      <td>10.460157</td>\n",
       "      <td>32.895324</td>\n",
       "      <td>0.001887</td>\n",
       "      <td>0.154386</td>\n",
       "      <td>0.169507</td>\n",
       "      <td>1.065668</td>\n",
       "      <td>0.807569</td>\n",
       "    </tr>\n",
       "    <tr>\n",
       "      <th>min</th>\n",
       "      <td>4.600000</td>\n",
       "      <td>0.120000</td>\n",
       "      <td>0.000000</td>\n",
       "      <td>0.900000</td>\n",
       "      <td>0.012000</td>\n",
       "      <td>1.000000</td>\n",
       "      <td>6.000000</td>\n",
       "      <td>0.990070</td>\n",
       "      <td>2.740000</td>\n",
       "      <td>0.330000</td>\n",
       "      <td>8.400000</td>\n",
       "      <td>3.000000</td>\n",
       "    </tr>\n",
       "    <tr>\n",
       "      <th>25%</th>\n",
       "      <td>7.100000</td>\n",
       "      <td>0.390000</td>\n",
       "      <td>0.090000</td>\n",
       "      <td>1.900000</td>\n",
       "      <td>0.070000</td>\n",
       "      <td>7.000000</td>\n",
       "      <td>22.000000</td>\n",
       "      <td>0.995600</td>\n",
       "      <td>3.210000</td>\n",
       "      <td>0.550000</td>\n",
       "      <td>9.500000</td>\n",
       "      <td>5.000000</td>\n",
       "    </tr>\n",
       "    <tr>\n",
       "      <th>50%</th>\n",
       "      <td>7.900000</td>\n",
       "      <td>0.520000</td>\n",
       "      <td>0.260000</td>\n",
       "      <td>2.200000</td>\n",
       "      <td>0.079000</td>\n",
       "      <td>14.000000</td>\n",
       "      <td>38.000000</td>\n",
       "      <td>0.996750</td>\n",
       "      <td>3.310000</td>\n",
       "      <td>0.620000</td>\n",
       "      <td>10.200000</td>\n",
       "      <td>6.000000</td>\n",
       "    </tr>\n",
       "    <tr>\n",
       "      <th>75%</th>\n",
       "      <td>9.200000</td>\n",
       "      <td>0.640000</td>\n",
       "      <td>0.420000</td>\n",
       "      <td>2.600000</td>\n",
       "      <td>0.090000</td>\n",
       "      <td>21.000000</td>\n",
       "      <td>62.000000</td>\n",
       "      <td>0.997835</td>\n",
       "      <td>3.400000</td>\n",
       "      <td>0.730000</td>\n",
       "      <td>11.100000</td>\n",
       "      <td>6.000000</td>\n",
       "    </tr>\n",
       "    <tr>\n",
       "      <th>max</th>\n",
       "      <td>15.900000</td>\n",
       "      <td>1.580000</td>\n",
       "      <td>1.000000</td>\n",
       "      <td>15.500000</td>\n",
       "      <td>0.611000</td>\n",
       "      <td>72.000000</td>\n",
       "      <td>289.000000</td>\n",
       "      <td>1.003690</td>\n",
       "      <td>4.010000</td>\n",
       "      <td>2.000000</td>\n",
       "      <td>14.900000</td>\n",
       "      <td>8.000000</td>\n",
       "    </tr>\n",
       "  </tbody>\n",
       "</table>\n",
       "</div>"
      ],
      "text/plain": [
       "       fixed acidity  volatile acidity  citric acid  residual sugar  \\\n",
       "count    1599.000000       1599.000000  1599.000000     1599.000000   \n",
       "mean        8.319637          0.527821     0.270976        2.538806   \n",
       "std         1.741096          0.179060     0.194801        1.409928   \n",
       "min         4.600000          0.120000     0.000000        0.900000   \n",
       "25%         7.100000          0.390000     0.090000        1.900000   \n",
       "50%         7.900000          0.520000     0.260000        2.200000   \n",
       "75%         9.200000          0.640000     0.420000        2.600000   \n",
       "max        15.900000          1.580000     1.000000       15.500000   \n",
       "\n",
       "         chlorides  free sulfur dioxide  total sulfur dioxide      density  \\\n",
       "count  1599.000000          1599.000000           1599.000000  1599.000000   \n",
       "mean      0.087467            15.874922             46.467792     0.996747   \n",
       "std       0.047065            10.460157             32.895324     0.001887   \n",
       "min       0.012000             1.000000              6.000000     0.990070   \n",
       "25%       0.070000             7.000000             22.000000     0.995600   \n",
       "50%       0.079000            14.000000             38.000000     0.996750   \n",
       "75%       0.090000            21.000000             62.000000     0.997835   \n",
       "max       0.611000            72.000000            289.000000     1.003690   \n",
       "\n",
       "                pH    sulphates      alcohol      quality  \n",
       "count  1599.000000  1599.000000  1599.000000  1599.000000  \n",
       "mean      3.311113     0.658149    10.422983     5.636023  \n",
       "std       0.154386     0.169507     1.065668     0.807569  \n",
       "min       2.740000     0.330000     8.400000     3.000000  \n",
       "25%       3.210000     0.550000     9.500000     5.000000  \n",
       "50%       3.310000     0.620000    10.200000     6.000000  \n",
       "75%       3.400000     0.730000    11.100000     6.000000  \n",
       "max       4.010000     2.000000    14.900000     8.000000  "
      ]
     },
     "execution_count": 85,
     "metadata": {},
     "output_type": "execute_result"
    }
   ],
   "source": [
    "## We grab the summary statistics, seeing there are several outliers in this equation. I would like to see where \n",
    "## some of these outliers sit on here, in comparison to their specific quality rating.\n",
    "\n",
    "## There isn't any reason to change certain values into categorical data, as each column represents a specific \n",
    "## value, and none besides the quality column are integer/categorical data, thus we will keep the columns as real-\n",
    "## valued data.\n",
    "wine.describe()"
   ]
  },
  {
   "cell_type": "code",
   "execution_count": 86,
   "metadata": {},
   "outputs": [
    {
     "name": "stdout",
     "output_type": "stream",
     "text": [
      "Quality 5 : 42.589118198874296 %\n",
      "Quality 6 : 39.89993746091307 %\n",
      "Quality 7 : 12.445278298936834 %\n",
      "Quality 4 : 3.314571607254534 %\n",
      "Quality 8 : 1.125703564727955 %\n",
      "Quality 3 : 0.6253908692933083 %\n"
     ]
    },
    {
     "name": "stderr",
     "output_type": "stream",
     "text": [
      "/Users/gabrielsmith/anaconda/lib/python3.6/site-packages/scipy/stats/stats.py:1713: FutureWarning: Using a non-tuple sequence for multidimensional indexing is deprecated; use `arr[tuple(seq)]` instead of `arr[seq]`. In the future this will be interpreted as an array index, `arr[np.array(seq)]`, which will result either in an error or a different result.\n",
      "  return np.add.reduce(sorted[indexer] * weights, axis=axis) / sumval\n"
     ]
    },
    {
     "data": {
      "text/plain": [
       "<matplotlib.axes._subplots.AxesSubplot at 0x1a2151fd68>"
      ]
     },
     "execution_count": 86,
     "metadata": {},
     "output_type": "execute_result"
    },
    {
     "data": {
      "image/png": "[encoded data removed]",
      "text/plain": [
       "<Figure size 1080x576 with 1 Axes>"
      ]
     },
     "metadata": {
      "needs_background": "light"
     },
     "output_type": "display_data"
    }
   ],
   "source": [
    "## Upon seeing the mean of quality being relatively average between the min 3 and max 8, I wanted to see the \n",
    "## percentage of 5 or 6 quality wine.\n",
    "for i in wine['quality'].unique():\n",
    "    print('Quality',i,':',len(wine[wine['quality'] == i])/len(wine)*100,'%')\n",
    "## We see that over 80% of all ranks were either 5 or 6, giving it less than 1/8 chance of being ranked 7 and around\n",
    "## 1% chance of being ranked 8. Thus it's difficult to model, and here is a histogram of the data.\n",
    "sns.distplot(wine['quality'])\n",
    "## I now want to analyze what qualitities are in each wine with 7 or greater quality."
   ]
  },
  {
   "cell_type": "code",
   "execution_count": 87,
   "metadata": {},
   "outputs": [],
   "source": [
    "## We now grab a subset of the wine dataset consisting of only quality 7 or greater wine. We label this subset wine1\n",
    "wine1 = wine[wine['quality'] >= 7]"
   ]
  },
  {
   "cell_type": "code",
   "execution_count": 88,
   "metadata": {
    "scrolled": false
   },
   "outputs": [
    {
     "data": {
      "text/plain": [
       "<matplotlib.axes._subplots.AxesSubplot at 0x1a216d5198>"
      ]
     },
     "execution_count": 88,
     "metadata": {},
     "output_type": "execute_result"
    },
    {
     "data": {
      "image/png": "[encoded data removed]",
      "text/plain": [
       "<Figure size 1080x576 with 1 Axes>"
      ]
     },
     "metadata": {
      "needs_background": "light"
     },
     "output_type": "display_data"
    }
   ],
   "source": [
    "## We now plot wine1 data of chlorides against citric acid, with color hue differing by quality.\n",
    "sns.scatterplot(wine1['chlorides'],wine1['citric acid'],hue=wine1['quality'])"
   ]
  },
  {
   "cell_type": "code",
   "execution_count": 89,
   "metadata": {},
   "outputs": [
    {
     "data": {
      "text/plain": [
       "<matplotlib.axes._subplots.AxesSubplot at 0x1a217485c0>"
      ]
     },
     "execution_count": 89,
     "metadata": {},
     "output_type": "execute_result"
    },
    {
     "data": {
      "image/png": "[encoded data removed]",
      "text/plain": [
       "<Figure size 1080x576 with 1 Axes>"
      ]
     },
     "metadata": {
      "needs_background": "light"
     },
     "output_type": "display_data"
    }
   ],
   "source": [
    "## We see that there are few data points with chloride concentration greater than 0.15, especially those of \n",
    "## high quality wine, thus I will get rid of the major outliers for the data. \n",
    "wine1 = wine1[wine1['chlorides'] <= 0.15]\n",
    "sns.scatterplot(wine1['chlorides'],wine1['citric acid'],hue=wine1['quality'])"
   ]
  },
  {
   "cell_type": "code",
   "execution_count": 90,
   "metadata": {
    "scrolled": true
   },
   "outputs": [
    {
     "data": {
      "text/plain": [
       "<matplotlib.axes._subplots.AxesSubplot at 0x1a217b0a20>"
      ]
     },
     "execution_count": 90,
     "metadata": {},
     "output_type": "execute_result"
    },
    {
     "data": {
      "image/png": "[encoded data removed]",
      "text/plain": [
       "<Figure size 1080x576 with 1 Axes>"
      ]
     },
     "metadata": {
      "needs_background": "light"
     },
     "output_type": "display_data"
    }
   ],
   "source": [
    "## Another section where outliers seem to exist are in volatile acidity. No values of wine quality greater than or\n",
    "## equal to 7 have volatile acidity above 1. \n",
    "sns.scatterplot(wine['volatile acidity'],wine['quality'])"
   ]
  },
  {
   "cell_type": "markdown",
   "metadata": {},
   "source": [
    "## Pokemon JSON Dataset"
   ]
  },
  {
   "cell_type": "code",
   "execution_count": 92,
   "metadata": {},
   "outputs": [
    {
     "data": {
      "text/html": [
       "<div>\n",
       "<style scoped>\n",
       "    .dataframe tbody tr th:only-of-type {\n",
       "        vertical-align: middle;\n",
       "    }\n",
       "\n",
       "    .dataframe tbody tr th {\n",
       "        vertical-align: top;\n",
       "    }\n",
       "\n",
       "    .dataframe thead th {\n",
       "        text-align: right;\n",
       "    }\n",
       "</style>\n",
       "<table border=\"1\" class=\"dataframe\">\n",
       "  <thead>\n",
       "    <tr style=\"text-align: right;\">\n",
       "      <th></th>\n",
       "      <th>avg_spawns</th>\n",
       "      <th>candy</th>\n",
       "      <th>candy_count</th>\n",
       "      <th>egg</th>\n",
       "      <th>height</th>\n",
       "      <th>id</th>\n",
       "      <th>img</th>\n",
       "      <th>multipliers</th>\n",
       "      <th>name</th>\n",
       "      <th>next_evolution</th>\n",
       "      <th>num</th>\n",
       "      <th>prev_evolution</th>\n",
       "      <th>spawn_chance</th>\n",
       "      <th>spawn_time</th>\n",
       "      <th>type</th>\n",
       "      <th>weaknesses</th>\n",
       "      <th>weight</th>\n",
       "    </tr>\n",
       "  </thead>\n",
       "  <tbody>\n",
       "    <tr>\n",
       "      <th>0</th>\n",
       "      <td>69.0</td>\n",
       "      <td>Bulbasaur Candy</td>\n",
       "      <td>25.0</td>\n",
       "      <td>2 km</td>\n",
       "      <td>0.71 m</td>\n",
       "      <td>1</td>\n",
       "      <td>http://www.serebii.net/pokemongo/pokemon/001.png</td>\n",
       "      <td>[1.58]</td>\n",
       "      <td>Bulbasaur</td>\n",
       "      <td>[{'num': '002', 'name': 'Ivysaur'}, {'num': '0...</td>\n",
       "      <td>001</td>\n",
       "      <td>NaN</td>\n",
       "      <td>0.690</td>\n",
       "      <td>20:00</td>\n",
       "      <td>[Grass, Poison]</td>\n",
       "      <td>[Fire, Ice, Flying, Psychic]</td>\n",
       "      <td>6.9 kg</td>\n",
       "    </tr>\n",
       "    <tr>\n",
       "      <th>1</th>\n",
       "      <td>4.2</td>\n",
       "      <td>Bulbasaur Candy</td>\n",
       "      <td>100.0</td>\n",
       "      <td>Not in Eggs</td>\n",
       "      <td>0.99 m</td>\n",
       "      <td>2</td>\n",
       "      <td>http://www.serebii.net/pokemongo/pokemon/002.png</td>\n",
       "      <td>[1.2, 1.6]</td>\n",
       "      <td>Ivysaur</td>\n",
       "      <td>[{'num': '003', 'name': 'Venusaur'}]</td>\n",
       "      <td>002</td>\n",
       "      <td>[{'num': '001', 'name': 'Bulbasaur'}]</td>\n",
       "      <td>0.042</td>\n",
       "      <td>07:00</td>\n",
       "      <td>[Grass, Poison]</td>\n",
       "      <td>[Fire, Ice, Flying, Psychic]</td>\n",
       "      <td>13.0 kg</td>\n",
       "    </tr>\n",
       "    <tr>\n",
       "      <th>2</th>\n",
       "      <td>1.7</td>\n",
       "      <td>Bulbasaur Candy</td>\n",
       "      <td>NaN</td>\n",
       "      <td>Not in Eggs</td>\n",
       "      <td>2.01 m</td>\n",
       "      <td>3</td>\n",
       "      <td>http://www.serebii.net/pokemongo/pokemon/003.png</td>\n",
       "      <td>None</td>\n",
       "      <td>Venusaur</td>\n",
       "      <td>NaN</td>\n",
       "      <td>003</td>\n",
       "      <td>[{'num': '001', 'name': 'Bulbasaur'}, {'num': ...</td>\n",
       "      <td>0.017</td>\n",
       "      <td>11:30</td>\n",
       "      <td>[Grass, Poison]</td>\n",
       "      <td>[Fire, Ice, Flying, Psychic]</td>\n",
       "      <td>100.0 kg</td>\n",
       "    </tr>\n",
       "    <tr>\n",
       "      <th>3</th>\n",
       "      <td>25.3</td>\n",
       "      <td>Charmander Candy</td>\n",
       "      <td>25.0</td>\n",
       "      <td>2 km</td>\n",
       "      <td>0.61 m</td>\n",
       "      <td>4</td>\n",
       "      <td>http://www.serebii.net/pokemongo/pokemon/004.png</td>\n",
       "      <td>[1.65]</td>\n",
       "      <td>Charmander</td>\n",
       "      <td>[{'num': '005', 'name': 'Charmeleon'}, {'num':...</td>\n",
       "      <td>004</td>\n",
       "      <td>NaN</td>\n",
       "      <td>0.253</td>\n",
       "      <td>08:45</td>\n",
       "      <td>[Fire]</td>\n",
       "      <td>[Water, Ground, Rock]</td>\n",
       "      <td>8.5 kg</td>\n",
       "    </tr>\n",
       "    <tr>\n",
       "      <th>4</th>\n",
       "      <td>1.2</td>\n",
       "      <td>Charmander Candy</td>\n",
       "      <td>100.0</td>\n",
       "      <td>Not in Eggs</td>\n",
       "      <td>1.09 m</td>\n",
       "      <td>5</td>\n",
       "      <td>http://www.serebii.net/pokemongo/pokemon/005.png</td>\n",
       "      <td>[1.79]</td>\n",
       "      <td>Charmeleon</td>\n",
       "      <td>[{'num': '006', 'name': 'Charizard'}]</td>\n",
       "      <td>005</td>\n",
       "      <td>[{'num': '004', 'name': 'Charmander'}]</td>\n",
       "      <td>0.012</td>\n",
       "      <td>19:00</td>\n",
       "      <td>[Fire]</td>\n",
       "      <td>[Water, Ground, Rock]</td>\n",
       "      <td>19.0 kg</td>\n",
       "    </tr>\n",
       "  </tbody>\n",
       "</table>\n",
       "</div>"
      ],
      "text/plain": [
       "   avg_spawns             candy  candy_count          egg  height  id  \\\n",
       "0        69.0   Bulbasaur Candy         25.0         2 km  0.71 m   1   \n",
       "1         4.2   Bulbasaur Candy        100.0  Not in Eggs  0.99 m   2   \n",
       "2         1.7   Bulbasaur Candy          NaN  Not in Eggs  2.01 m   3   \n",
       "3        25.3  Charmander Candy         25.0         2 km  0.61 m   4   \n",
       "4         1.2  Charmander Candy        100.0  Not in Eggs  1.09 m   5   \n",
       "\n",
       "                                                img multipliers        name  \\\n",
       "0  http://www.serebii.net/pokemongo/pokemon/001.png      [1.58]   Bulbasaur   \n",
       "1  http://www.serebii.net/pokemongo/pokemon/002.png  [1.2, 1.6]     Ivysaur   \n",
       "2  http://www.serebii.net/pokemongo/pokemon/003.png        None    Venusaur   \n",
       "3  http://www.serebii.net/pokemongo/pokemon/004.png      [1.65]  Charmander   \n",
       "4  http://www.serebii.net/pokemongo/pokemon/005.png      [1.79]  Charmeleon   \n",
       "\n",
       "                                      next_evolution  num  \\\n",
       "0  [{'num': '002', 'name': 'Ivysaur'}, {'num': '0...  001   \n",
       "1               [{'num': '003', 'name': 'Venusaur'}]  002   \n",
       "2                                                NaN  003   \n",
       "3  [{'num': '005', 'name': 'Charmeleon'}, {'num':...  004   \n",
       "4              [{'num': '006', 'name': 'Charizard'}]  005   \n",
       "\n",
       "                                      prev_evolution  spawn_chance spawn_time  \\\n",
       "0                                                NaN         0.690      20:00   \n",
       "1              [{'num': '001', 'name': 'Bulbasaur'}]         0.042      07:00   \n",
       "2  [{'num': '001', 'name': 'Bulbasaur'}, {'num': ...         0.017      11:30   \n",
       "3                                                NaN         0.253      08:45   \n",
       "4             [{'num': '004', 'name': 'Charmander'}]         0.012      19:00   \n",
       "\n",
       "              type                    weaknesses    weight  \n",
       "0  [Grass, Poison]  [Fire, Ice, Flying, Psychic]    6.9 kg  \n",
       "1  [Grass, Poison]  [Fire, Ice, Flying, Psychic]   13.0 kg  \n",
       "2  [Grass, Poison]  [Fire, Ice, Flying, Psychic]  100.0 kg  \n",
       "3           [Fire]         [Water, Ground, Rock]    8.5 kg  \n",
       "4           [Fire]         [Water, Ground, Rock]   19.0 kg  "
      ]
     },
     "execution_count": 92,
     "metadata": {},
     "output_type": "execute_result"
    }
   ],
   "source": [
    "## Here is a previous of the pokemon dataset I have downloaded. This dataset gives information concerning \n",
    "## all types of Pokemon in a given set. \n",
    "## For this specific project, I want to find data on which pokemon is the most powerful, and I will be telling\n",
    "## a small story to analyze this data.\n",
    "pokemon.head(5)"
   ]
  },
  {
   "cell_type": "code",
   "execution_count": 93,
   "metadata": {
    "scrolled": true
   },
   "outputs": [
    {
     "name": "stdout",
     "output_type": "stream",
     "text": [
      "<class 'pandas.core.frame.DataFrame'>\n",
      "RangeIndex: 151 entries, 0 to 150\n",
      "Data columns (total 17 columns):\n",
      "avg_spawns        151 non-null float64\n",
      "candy             151 non-null object\n",
      "candy_count       70 non-null float64\n",
      "egg               151 non-null object\n",
      "height            151 non-null object\n",
      "id                151 non-null int64\n",
      "img               151 non-null object\n",
      "multipliers       70 non-null object\n",
      "name              151 non-null object\n",
      "next_evolution    70 non-null object\n",
      "num               151 non-null object\n",
      "prev_evolution    72 non-null object\n",
      "spawn_chance      151 non-null float64\n",
      "spawn_time        151 non-null object\n",
      "type              151 non-null object\n",
      "weaknesses        151 non-null object\n",
      "weight            151 non-null object\n",
      "dtypes: float64(3), int64(1), object(13)\n",
      "memory usage: 20.1+ KB\n"
     ]
    }
   ],
   "source": [
    "## In the pokemon dataset, there are a lot more NULL values than the previous wine data set. Thus we will \n",
    "## analyze each of these, but also change some of these columns into real values instead of strings.\n",
    "pokemon.info()"
   ]
  },
  {
   "cell_type": "code",
   "execution_count": 94,
   "metadata": {},
   "outputs": [],
   "source": [
    "## I will be cleaning some of this data and turning it into integers for constructing greater analysis. Specifically\n",
    "## for height, weight, # weaknesses, # types and # previous evolutions.\n",
    "for i in range(len(pokemon['height'])):\n",
    "    pokemon.loc[i,'height'] = np.float(pokemon.loc[i,'height'][:-2])\n",
    "    pokemon.loc[i,'weight'] = float(pokemon.loc[i,'weight'][:-3])\n",
    "    pokemon.loc[i,'num_weakness'] = len(pokemon.loc[i,'weaknesses'])\n",
    "    pokemon.loc[i,'num_type'] = len(pokemon.loc[i,'type'])\n",
    "    pokemon.loc[i,'num_prev_evol'] = len(pokemon.loc[i,'type'])"
   ]
  },
  {
   "cell_type": "code",
   "execution_count": 95,
   "metadata": {},
   "outputs": [],
   "source": [
    "## There is a problem with both the weight and height columns, as they are not recognized as floats. Thus I will\n",
    "## change each of them to a float object after putting them into a list.\n",
    "h = []\n",
    "w = []\n",
    "for i in range(len(pokemon['weight'])):\n",
    "    w.append(pokemon.loc[i,'weight'])\n",
    "    h.append(pokemon.loc[i,'height'])\n",
    "pokemon.loc[:,'height'] = h\n",
    "pokemon.loc[:,'weight'] = w"
   ]
  },
  {
   "cell_type": "code",
   "execution_count": 96,
   "metadata": {},
   "outputs": [],
   "source": [
    "## I will also create a different column of the rate of type over weakness.\n",
    "pokemon.loc[:,'type_weakness_ratio'] = pokemon.loc[:,'num_type']/pokemon.loc[:,'num_weakness']"
   ]
  },
  {
   "cell_type": "code",
   "execution_count": 98,
   "metadata": {},
   "outputs": [
    {
     "data": {
      "text/html": [
       "<div>\n",
       "<style scoped>\n",
       "    .dataframe tbody tr th:only-of-type {\n",
       "        vertical-align: middle;\n",
       "    }\n",
       "\n",
       "    .dataframe tbody tr th {\n",
       "        vertical-align: top;\n",
       "    }\n",
       "\n",
       "    .dataframe thead th {\n",
       "        text-align: right;\n",
       "    }\n",
       "</style>\n",
       "<table border=\"1\" class=\"dataframe\">\n",
       "  <thead>\n",
       "    <tr style=\"text-align: right;\">\n",
       "      <th></th>\n",
       "      <th>avg_spawns</th>\n",
       "      <th>height</th>\n",
       "      <th>weight</th>\n",
       "      <th>num_weakness</th>\n",
       "      <th>num_type</th>\n",
       "      <th>type_weakness_ratio</th>\n",
       "    </tr>\n",
       "  </thead>\n",
       "  <tbody>\n",
       "    <tr>\n",
       "      <th>count</th>\n",
       "      <td>151.000000</td>\n",
       "      <td>151.000000</td>\n",
       "      <td>151.000000</td>\n",
       "      <td>151.000000</td>\n",
       "      <td>151.000000</td>\n",
       "      <td>151.000000</td>\n",
       "    </tr>\n",
       "    <tr>\n",
       "      <th>mean</th>\n",
       "      <td>53.992603</td>\n",
       "      <td>1.193841</td>\n",
       "      <td>45.951656</td>\n",
       "      <td>2.993377</td>\n",
       "      <td>1.410596</td>\n",
       "      <td>0.549038</td>\n",
       "    </tr>\n",
       "    <tr>\n",
       "      <th>std</th>\n",
       "      <td>111.156064</td>\n",
       "      <td>0.961873</td>\n",
       "      <td>59.447988</td>\n",
       "      <td>1.416553</td>\n",
       "      <td>0.493579</td>\n",
       "      <td>0.249070</td>\n",
       "    </tr>\n",
       "    <tr>\n",
       "      <th>min</th>\n",
       "      <td>0.000000</td>\n",
       "      <td>0.200000</td>\n",
       "      <td>0.100000</td>\n",
       "      <td>1.000000</td>\n",
       "      <td>1.000000</td>\n",
       "      <td>0.200000</td>\n",
       "    </tr>\n",
       "    <tr>\n",
       "      <th>25%</th>\n",
       "      <td>1.450000</td>\n",
       "      <td>0.710000</td>\n",
       "      <td>9.900000</td>\n",
       "      <td>2.000000</td>\n",
       "      <td>1.000000</td>\n",
       "      <td>0.333333</td>\n",
       "    </tr>\n",
       "    <tr>\n",
       "      <th>50%</th>\n",
       "      <td>7.200000</td>\n",
       "      <td>0.990000</td>\n",
       "      <td>30.000000</td>\n",
       "      <td>3.000000</td>\n",
       "      <td>1.000000</td>\n",
       "      <td>0.500000</td>\n",
       "    </tr>\n",
       "    <tr>\n",
       "      <th>75%</th>\n",
       "      <td>55.000000</td>\n",
       "      <td>1.500000</td>\n",
       "      <td>56.250000</td>\n",
       "      <td>4.000000</td>\n",
       "      <td>2.000000</td>\n",
       "      <td>0.500000</td>\n",
       "    </tr>\n",
       "    <tr>\n",
       "      <th>max</th>\n",
       "      <td>712.000000</td>\n",
       "      <td>8.790000</td>\n",
       "      <td>460.000000</td>\n",
       "      <td>7.000000</td>\n",
       "      <td>2.000000</td>\n",
       "      <td>1.000000</td>\n",
       "    </tr>\n",
       "  </tbody>\n",
       "</table>\n",
       "</div>"
      ],
      "text/plain": [
       "       avg_spawns      height      weight  num_weakness    num_type  \\\n",
       "count  151.000000  151.000000  151.000000    151.000000  151.000000   \n",
       "mean    53.992603    1.193841   45.951656      2.993377    1.410596   \n",
       "std    111.156064    0.961873   59.447988      1.416553    0.493579   \n",
       "min      0.000000    0.200000    0.100000      1.000000    1.000000   \n",
       "25%      1.450000    0.710000    9.900000      2.000000    1.000000   \n",
       "50%      7.200000    0.990000   30.000000      3.000000    1.000000   \n",
       "75%     55.000000    1.500000   56.250000      4.000000    2.000000   \n",
       "max    712.000000    8.790000  460.000000      7.000000    2.000000   \n",
       "\n",
       "       type_weakness_ratio  \n",
       "count           151.000000  \n",
       "mean              0.549038  \n",
       "std               0.249070  \n",
       "min               0.200000  \n",
       "25%               0.333333  \n",
       "50%               0.500000  \n",
       "75%               0.500000  \n",
       "max               1.000000  "
      ]
     },
     "execution_count": 98,
     "metadata": {},
     "output_type": "execute_result"
    }
   ],
   "source": [
    "## I will now grab the summary statistics for the specific types of data in our set.\n",
    "pokemon.loc[:,['avg_spawns','height','weight','num_weakness','num_type','type_weakness_ratio']].describe()\n",
    "# We can pull a couple interesting insights from this page:\n",
    "#     1. There are a couple major anomalies in the height, weight and average spawns columns. The max values \n",
    "#         each over 6 times the 75% quartile, thus causing the mean to well exceed the 50% quartile value. \n",
    "#         Thus we can dive in deeper into these values. \n",
    "#     2. Each pokemon has only one or two ingrained types for itself, and the rate doesn't exceed one. Hence\n",
    "#         each pokemon has at least as many weaknesses as types. This is an interesting combination, where\n",
    "#         we can pull insights from the data about each.\n"
   ]
  },
  {
   "cell_type": "code",
   "execution_count": 99,
   "metadata": {},
   "outputs": [
    {
     "data": {
      "text/plain": [
       "(array([50., 30., 22., 17.,  7.,  8.,  3.,  5.,  2.,  0.,  1.,  0.,  0.,\n",
       "         2.,  1.,  1.,  0.,  0.,  0.,  1.,  0.,  0.,  0.,  0.,  0.,  0.,\n",
       "         0.,  0.,  0.,  1.]),\n",
       " array([1.0000e-01, 1.5430e+01, 3.0760e+01, 4.6090e+01, 6.1420e+01,\n",
       "        7.6750e+01, 9.2080e+01, 1.0741e+02, 1.2274e+02, 1.3807e+02,\n",
       "        1.5340e+02, 1.6873e+02, 1.8406e+02, 1.9939e+02, 2.1472e+02,\n",
       "        2.3005e+02, 2.4538e+02, 2.6071e+02, 2.7604e+02, 2.9137e+02,\n",
       "        3.0670e+02, 3.2203e+02, 3.3736e+02, 3.5269e+02, 3.6802e+02,\n",
       "        3.8335e+02, 3.9868e+02, 4.1401e+02, 4.2934e+02, 4.4467e+02,\n",
       "        4.6000e+02]),\n",
       " <a list of 30 Patch objects>)"
      ]
     },
     "execution_count": 99,
     "metadata": {},
     "output_type": "execute_result"
    },
    {
     "data": {
      "image/png": "[encoded data removed]",
      "text/plain": [
       "<Figure size 1080x576 with 1 Axes>"
      ]
     },
     "metadata": {
      "needs_background": "light"
     },
     "output_type": "display_data"
    }
   ],
   "source": [
    "## There are only a few pokemon who have weights greater than 200 kilograms. This however may not give us the \n",
    "## knowledge we need, as weight does not necessarily translate to power. There are several other aspects that\n",
    "## are difficult to find in this data including speed, power, defense, etc., that make it more difficult to \n",
    "## find which pokemon is the most powerful.\n",
    "plt.hist(w,bins=30)"
   ]
  },
  {
   "cell_type": "code",
   "execution_count": 100,
   "metadata": {},
   "outputs": [],
   "source": [
    "## We subset the data to see which pokemon have weight greater than 150 to do additional analysis.\n",
    "weight = pokemon[pokemon['weight'] >= 150]"
   ]
  },
  {
   "cell_type": "code",
   "execution_count": 101,
   "metadata": {
    "scrolled": false
   },
   "outputs": [
    {
     "data": {
      "text/plain": [
       "(array([21., 21., 36., 26., 23., 11.,  6.,  3.,  0.,  0.,  0.,  1.,  0.,\n",
       "         1.,  0.,  0.,  0.,  0.,  0.,  0.,  0.,  0.,  1.,  0.,  0.,  0.,\n",
       "         0.,  0.,  0.,  1.]),\n",
       " array([0.2       , 0.48633333, 0.77266667, 1.059     , 1.34533333,\n",
       "        1.63166667, 1.918     , 2.20433333, 2.49066667, 2.777     ,\n",
       "        3.06333333, 3.34966667, 3.636     , 3.92233333, 4.20866667,\n",
       "        4.495     , 4.78133333, 5.06766667, 5.354     , 5.64033333,\n",
       "        5.92666667, 6.213     , 6.49933333, 6.78566667, 7.072     ,\n",
       "        7.35833333, 7.64466667, 7.931     , 8.21733333, 8.50366667,\n",
       "        8.79      ]),\n",
       " <a list of 30 Patch objects>)"
      ]
     },
     "execution_count": 101,
     "metadata": {},
     "output_type": "execute_result"
    },
    {
     "data": {
      "image/png": "[encoded data removed]",
      "text/plain": [
       "<Figure size 1080x576 with 1 Axes>"
      ]
     },
     "metadata": {
      "needs_background": "light"
     },
     "output_type": "display_data"
    }
   ],
   "source": [
    "## We also see that most pokemon are not very tall, with almost 90% of them never reaching above 2 meters tall. \n",
    "## However there are some pokemon who are tall which can relate to power.\n",
    "plt.hist(h,bins=30)"
   ]
  },
  {
   "cell_type": "code",
   "execution_count": 102,
   "metadata": {},
   "outputs": [],
   "source": [
    "## We then subset the data based on height, grabbing the pokemon with a height greater than 1.5 meters.\n",
    "height = pokemon[pokemon['height'] >= 1.5]"
   ]
  },
  {
   "cell_type": "code",
   "execution_count": 103,
   "metadata": {},
   "outputs": [
    {
     "data": {
      "text/plain": [
       "(array([ 1.,  0.,  0.,  2., 47.,  0.,  0.,  7.,  0.,  0.,  0., 58.,  0.,\n",
       "         0.,  0.,  0.,  0.,  4.,  0.,  0.,  0.,  0.,  0.,  0.,  0.,  0.,\n",
       "         0.,  0.,  0., 32.]),\n",
       " array([0.2       , 0.22666667, 0.25333333, 0.28      , 0.30666667,\n",
       "        0.33333333, 0.36      , 0.38666667, 0.41333333, 0.44      ,\n",
       "        0.46666667, 0.49333333, 0.52      , 0.54666667, 0.57333333,\n",
       "        0.6       , 0.62666667, 0.65333333, 0.68      , 0.70666667,\n",
       "        0.73333333, 0.76      , 0.78666667, 0.81333333, 0.84      ,\n",
       "        0.86666667, 0.89333333, 0.92      , 0.94666667, 0.97333333,\n",
       "        1.        ]),\n",
       " <a list of 30 Patch objects>)"
      ]
     },
     "execution_count": 103,
     "metadata": {},
     "output_type": "execute_result"
    },
    {
     "data": {
      "image/png": "[encoded data removed]",
      "text/plain": [
       "<Figure size 1080x576 with 1 Axes>"
      ]
     },
     "metadata": {
      "needs_background": "light"
     },
     "output_type": "display_data"
    }
   ],
   "source": [
    "## Upon the initial analysis, we see that roughly 70% of pokemon have a rate of 50% or 100% of their types against\n",
    "## their weaknesses. We can find which pokemon would be most difficult to attack are those with a low number\n",
    "## of weaknesses.\n",
    "plt.hist(pokemon['type_weakness_ratio'],bins=30)"
   ]
  },
  {
   "cell_type": "code",
   "execution_count": 104,
   "metadata": {},
   "outputs": [],
   "source": [
    "## We now subset pokemon with a relatively higher rate, at least above 50%.\n",
    "weak = pokemon[pokemon['type_weakness_ratio'] > .5]"
   ]
  },
  {
   "cell_type": "code",
   "execution_count": 105,
   "metadata": {},
   "outputs": [
    {
     "name": "stdout",
     "output_type": "stream",
     "text": [
      "Int64Index([  5,  15,  16,  17,  18,  19,  20,  21,  24,  25,  34,  35,  38,\n",
      "             39,  51,  52,  71,  72,  82,  83,  84,  99, 100, 107, 112, 114,\n",
      "            124, 127, 129, 131, 132, 134, 136, 142, 144, 145],\n",
      "           dtype='int64')\n",
      "Int64Index([  2,   5,   8,  17,  22,  23,  41,  48,  54,  58,  64,  66,  67,\n",
      "             70,  72,  77,  79,  84,  86,  90,  92,  93,  94,  96, 102, 105,\n",
      "            111, 114, 122, 126, 129, 130, 141, 142, 143, 144, 145, 146, 147,\n",
      "            148, 149],\n",
      "           dtype='int64')\n",
      "Int64Index([58, 75, 94, 129, 130, 142, 148], dtype='int64')\n"
     ]
    }
   ],
   "source": [
    "## We can check the index values against each other, seeing which pokemon are in all two/three of these sections.\n",
    "print(weak.index)\n",
    "print(height.index)\n",
    "print(weight.index)"
   ]
  },
  {
   "cell_type": "code",
   "execution_count": 106,
   "metadata": {},
   "outputs": [],
   "source": [
    "## We will create a new column for how many times these pokemon are in each subset of the data.\n",
    "pokemon.loc[:,'power_rate'] = np.zeros(len(pokemon))\n",
    "for i in range(len(pokemon)):\n",
    "    if i in weak.index:\n",
    "        pokemon.loc[i,'power_rate'] += 1\n",
    "    if i in height.index:\n",
    "        pokemon.loc[i,'power_rate'] += 1\n",
    "    if i in weight.index:\n",
    "        pokemon.loc[i,'power_rate'] += 1"
   ]
  },
  {
   "cell_type": "code",
   "execution_count": 107,
   "metadata": {},
   "outputs": [
    {
     "data": {
      "text/plain": [
       "142       Snorlax\n",
       "129      Gyarados\n",
       "145       Moltres\n",
       "72     Tentacruel\n",
       "114    Kangaskhan\n",
       "58       Arcanine\n",
       "17        Pidgeot\n",
       "84         Dodrio\n",
       "144        Zapdos\n",
       "94           Onix\n",
       "Name: name, dtype: object"
      ]
     },
     "execution_count": 107,
     "metadata": {},
     "output_type": "execute_result"
    }
   ],
   "source": [
    "## We will find which pokemon are in at least two of these sections and determine these to be the most powerful.\n",
    "pokemon.sort_values(by='power_rate',ascending=False).loc[:,'name'].head(10)"
   ]
  },
  {
   "cell_type": "code",
   "execution_count": 108,
   "metadata": {},
   "outputs": [],
   "source": [
    "## Upon looking at this list, these would be the highest candidates for the most powerful pokemon in the \n",
    "## game based off of weakness rate, height and weight. We would need more statistics and information \n",
    "## concerning the pokemon to figure out which would be the most powerful. However, this does give us\n",
    "## a good estimate of the data."
   ]
  },
  {
   "cell_type": "markdown",
   "metadata": {},
   "source": [
    "## Titanic Data Set"
   ]
  },
  {
   "cell_type": "code",
   "execution_count": 112,
   "metadata": {},
   "outputs": [
    {
     "data": {
      "text/html": [
       "<div>\n",
       "<style scoped>\n",
       "    .dataframe tbody tr th:only-of-type {\n",
       "        vertical-align: middle;\n",
       "    }\n",
       "\n",
       "    .dataframe tbody tr th {\n",
       "        vertical-align: top;\n",
       "    }\n",
       "\n",
       "    .dataframe thead th {\n",
       "        text-align: right;\n",
       "    }\n",
       "</style>\n",
       "<table border=\"1\" class=\"dataframe\">\n",
       "  <thead>\n",
       "    <tr style=\"text-align: right;\">\n",
       "      <th></th>\n",
       "      <th>PassengerId</th>\n",
       "      <th>Survived</th>\n",
       "      <th>Pclass</th>\n",
       "      <th>Name</th>\n",
       "      <th>Sex</th>\n",
       "      <th>Age</th>\n",
       "      <th>SibSp</th>\n",
       "      <th>Parch</th>\n",
       "      <th>Ticket</th>\n",
       "      <th>Fare</th>\n",
       "      <th>Cabin</th>\n",
       "      <th>Embarked</th>\n",
       "    </tr>\n",
       "  </thead>\n",
       "  <tbody>\n",
       "    <tr>\n",
       "      <th>0</th>\n",
       "      <td>1.0</td>\n",
       "      <td>0.0</td>\n",
       "      <td>3.0</td>\n",
       "      <td>Braund, Mr. Owen Harris</td>\n",
       "      <td>male</td>\n",
       "      <td>22</td>\n",
       "      <td>1.0</td>\n",
       "      <td>0.0</td>\n",
       "      <td>A/5 21171</td>\n",
       "      <td>7.2500</td>\n",
       "      <td></td>\n",
       "      <td>S</td>\n",
       "    </tr>\n",
       "    <tr>\n",
       "      <th>1</th>\n",
       "      <td>2.0</td>\n",
       "      <td>1.0</td>\n",
       "      <td>1.0</td>\n",
       "      <td>Cumings, Mrs. John Bradley (Florence Briggs Th...</td>\n",
       "      <td>female</td>\n",
       "      <td>38</td>\n",
       "      <td>1.0</td>\n",
       "      <td>0.0</td>\n",
       "      <td>PC 17599</td>\n",
       "      <td>71.2833</td>\n",
       "      <td>C85</td>\n",
       "      <td>C</td>\n",
       "    </tr>\n",
       "    <tr>\n",
       "      <th>2</th>\n",
       "      <td>3.0</td>\n",
       "      <td>1.0</td>\n",
       "      <td>3.0</td>\n",
       "      <td>Heikkinen, Miss. Laina</td>\n",
       "      <td>female</td>\n",
       "      <td>26</td>\n",
       "      <td>0.0</td>\n",
       "      <td>0.0</td>\n",
       "      <td>STON/O2. 3101282</td>\n",
       "      <td>7.9250</td>\n",
       "      <td></td>\n",
       "      <td>S</td>\n",
       "    </tr>\n",
       "    <tr>\n",
       "      <th>3</th>\n",
       "      <td>4.0</td>\n",
       "      <td>1.0</td>\n",
       "      <td>1.0</td>\n",
       "      <td>Futrelle, Mrs. Jacques Heath (Lily May Peel)</td>\n",
       "      <td>female</td>\n",
       "      <td>35</td>\n",
       "      <td>1.0</td>\n",
       "      <td>0.0</td>\n",
       "      <td>113803</td>\n",
       "      <td>53.1000</td>\n",
       "      <td>C123</td>\n",
       "      <td>S</td>\n",
       "    </tr>\n",
       "    <tr>\n",
       "      <th>4</th>\n",
       "      <td>5.0</td>\n",
       "      <td>0.0</td>\n",
       "      <td>3.0</td>\n",
       "      <td>Allen, Mr. William Henry</td>\n",
       "      <td>male</td>\n",
       "      <td>35</td>\n",
       "      <td>0.0</td>\n",
       "      <td>0.0</td>\n",
       "      <td>373450</td>\n",
       "      <td>8.0500</td>\n",
       "      <td></td>\n",
       "      <td>S</td>\n",
       "    </tr>\n",
       "    <tr>\n",
       "      <th>5</th>\n",
       "      <td>6.0</td>\n",
       "      <td>0.0</td>\n",
       "      <td>3.0</td>\n",
       "      <td>Moran, Mr. James</td>\n",
       "      <td>male</td>\n",
       "      <td></td>\n",
       "      <td>0.0</td>\n",
       "      <td>0.0</td>\n",
       "      <td>330877</td>\n",
       "      <td>8.4583</td>\n",
       "      <td></td>\n",
       "      <td>Q</td>\n",
       "    </tr>\n",
       "    <tr>\n",
       "      <th>6</th>\n",
       "      <td>7.0</td>\n",
       "      <td>0.0</td>\n",
       "      <td>1.0</td>\n",
       "      <td>McCarthy, Mr. Timothy J</td>\n",
       "      <td>male</td>\n",
       "      <td>54</td>\n",
       "      <td>0.0</td>\n",
       "      <td>0.0</td>\n",
       "      <td>17463</td>\n",
       "      <td>51.8625</td>\n",
       "      <td>E46</td>\n",
       "      <td>S</td>\n",
       "    </tr>\n",
       "    <tr>\n",
       "      <th>7</th>\n",
       "      <td>8.0</td>\n",
       "      <td>0.0</td>\n",
       "      <td>3.0</td>\n",
       "      <td>Palsson, Master. Gosta Leonard</td>\n",
       "      <td>male</td>\n",
       "      <td>2</td>\n",
       "      <td>3.0</td>\n",
       "      <td>1.0</td>\n",
       "      <td>349909</td>\n",
       "      <td>21.0750</td>\n",
       "      <td></td>\n",
       "      <td>S</td>\n",
       "    </tr>\n",
       "    <tr>\n",
       "      <th>8</th>\n",
       "      <td>9.0</td>\n",
       "      <td>1.0</td>\n",
       "      <td>3.0</td>\n",
       "      <td>Johnson, Mrs. Oscar W (Elisabeth Vilhelmina Berg)</td>\n",
       "      <td>female</td>\n",
       "      <td>27</td>\n",
       "      <td>0.0</td>\n",
       "      <td>2.0</td>\n",
       "      <td>347742</td>\n",
       "      <td>11.1333</td>\n",
       "      <td></td>\n",
       "      <td>S</td>\n",
       "    </tr>\n",
       "    <tr>\n",
       "      <th>9</th>\n",
       "      <td>10.0</td>\n",
       "      <td>1.0</td>\n",
       "      <td>2.0</td>\n",
       "      <td>Nasser, Mrs. Nicholas (Adele Achem)</td>\n",
       "      <td>female</td>\n",
       "      <td>14</td>\n",
       "      <td>1.0</td>\n",
       "      <td>0.0</td>\n",
       "      <td>237736</td>\n",
       "      <td>30.0708</td>\n",
       "      <td></td>\n",
       "      <td>C</td>\n",
       "    </tr>\n",
       "  </tbody>\n",
       "</table>\n",
       "</div>"
      ],
      "text/plain": [
       "   PassengerId  Survived  Pclass  \\\n",
       "0          1.0       0.0     3.0   \n",
       "1          2.0       1.0     1.0   \n",
       "2          3.0       1.0     3.0   \n",
       "3          4.0       1.0     1.0   \n",
       "4          5.0       0.0     3.0   \n",
       "5          6.0       0.0     3.0   \n",
       "6          7.0       0.0     1.0   \n",
       "7          8.0       0.0     3.0   \n",
       "8          9.0       1.0     3.0   \n",
       "9         10.0       1.0     2.0   \n",
       "\n",
       "                                                Name     Sex Age  SibSp  \\\n",
       "0                            Braund, Mr. Owen Harris    male  22    1.0   \n",
       "1  Cumings, Mrs. John Bradley (Florence Briggs Th...  female  38    1.0   \n",
       "2                             Heikkinen, Miss. Laina  female  26    0.0   \n",
       "3       Futrelle, Mrs. Jacques Heath (Lily May Peel)  female  35    1.0   \n",
       "4                           Allen, Mr. William Henry    male  35    0.0   \n",
       "5                                   Moran, Mr. James    male        0.0   \n",
       "6                            McCarthy, Mr. Timothy J    male  54    0.0   \n",
       "7                     Palsson, Master. Gosta Leonard    male   2    3.0   \n",
       "8  Johnson, Mrs. Oscar W (Elisabeth Vilhelmina Berg)  female  27    0.0   \n",
       "9                Nasser, Mrs. Nicholas (Adele Achem)  female  14    1.0   \n",
       "\n",
       "   Parch            Ticket     Fare Cabin Embarked  \n",
       "0    0.0         A/5 21171   7.2500              S  \n",
       "1    0.0          PC 17599  71.2833   C85        C  \n",
       "2    0.0  STON/O2. 3101282   7.9250              S  \n",
       "3    0.0            113803  53.1000  C123        S  \n",
       "4    0.0            373450   8.0500              S  \n",
       "5    0.0            330877   8.4583              Q  \n",
       "6    0.0             17463  51.8625   E46        S  \n",
       "7    1.0            349909  21.0750              S  \n",
       "8    2.0            347742  11.1333              S  \n",
       "9    0.0            237736  30.0708              C  "
      ]
     },
     "execution_count": 112,
     "metadata": {},
     "output_type": "execute_result"
    }
   ],
   "source": [
    "## Here is the original data set I will use before exploration.\n",
    "tita1.head(10)"
   ]
  },
  {
   "cell_type": "code",
   "execution_count": 114,
   "metadata": {},
   "outputs": [
    {
     "data": {
      "text/html": [
       "<div>\n",
       "<style scoped>\n",
       "    .dataframe tbody tr th:only-of-type {\n",
       "        vertical-align: middle;\n",
       "    }\n",
       "\n",
       "    .dataframe tbody tr th {\n",
       "        vertical-align: top;\n",
       "    }\n",
       "\n",
       "    .dataframe thead th {\n",
       "        text-align: right;\n",
       "    }\n",
       "</style>\n",
       "<table border=\"1\" class=\"dataframe\">\n",
       "  <thead>\n",
       "    <tr style=\"text-align: right;\">\n",
       "      <th></th>\n",
       "      <th>PassengerId</th>\n",
       "      <th>Survived</th>\n",
       "      <th>Pclass</th>\n",
       "      <th>SibSp</th>\n",
       "      <th>Parch</th>\n",
       "      <th>Fare</th>\n",
       "    </tr>\n",
       "  </thead>\n",
       "  <tbody>\n",
       "    <tr>\n",
       "      <th>count</th>\n",
       "      <td>891.000000</td>\n",
       "      <td>891.000000</td>\n",
       "      <td>891.000000</td>\n",
       "      <td>891.000000</td>\n",
       "      <td>891.000000</td>\n",
       "      <td>891.000000</td>\n",
       "    </tr>\n",
       "    <tr>\n",
       "      <th>mean</th>\n",
       "      <td>446.000000</td>\n",
       "      <td>0.383838</td>\n",
       "      <td>2.308642</td>\n",
       "      <td>0.523008</td>\n",
       "      <td>0.381594</td>\n",
       "      <td>32.204208</td>\n",
       "    </tr>\n",
       "    <tr>\n",
       "      <th>std</th>\n",
       "      <td>257.353842</td>\n",
       "      <td>0.486592</td>\n",
       "      <td>0.836071</td>\n",
       "      <td>1.102743</td>\n",
       "      <td>0.806057</td>\n",
       "      <td>49.693429</td>\n",
       "    </tr>\n",
       "    <tr>\n",
       "      <th>min</th>\n",
       "      <td>1.000000</td>\n",
       "      <td>0.000000</td>\n",
       "      <td>1.000000</td>\n",
       "      <td>0.000000</td>\n",
       "      <td>0.000000</td>\n",
       "      <td>0.000000</td>\n",
       "    </tr>\n",
       "    <tr>\n",
       "      <th>25%</th>\n",
       "      <td>223.500000</td>\n",
       "      <td>0.000000</td>\n",
       "      <td>2.000000</td>\n",
       "      <td>0.000000</td>\n",
       "      <td>0.000000</td>\n",
       "      <td>7.910400</td>\n",
       "    </tr>\n",
       "    <tr>\n",
       "      <th>50%</th>\n",
       "      <td>446.000000</td>\n",
       "      <td>0.000000</td>\n",
       "      <td>3.000000</td>\n",
       "      <td>0.000000</td>\n",
       "      <td>0.000000</td>\n",
       "      <td>14.454200</td>\n",
       "    </tr>\n",
       "    <tr>\n",
       "      <th>75%</th>\n",
       "      <td>668.500000</td>\n",
       "      <td>1.000000</td>\n",
       "      <td>3.000000</td>\n",
       "      <td>1.000000</td>\n",
       "      <td>0.000000</td>\n",
       "      <td>31.000000</td>\n",
       "    </tr>\n",
       "    <tr>\n",
       "      <th>max</th>\n",
       "      <td>891.000000</td>\n",
       "      <td>1.000000</td>\n",
       "      <td>3.000000</td>\n",
       "      <td>8.000000</td>\n",
       "      <td>6.000000</td>\n",
       "      <td>512.329200</td>\n",
       "    </tr>\n",
       "  </tbody>\n",
       "</table>\n",
       "</div>"
      ],
      "text/plain": [
       "       PassengerId    Survived      Pclass       SibSp       Parch        Fare\n",
       "count   891.000000  891.000000  891.000000  891.000000  891.000000  891.000000\n",
       "mean    446.000000    0.383838    2.308642    0.523008    0.381594   32.204208\n",
       "std     257.353842    0.486592    0.836071    1.102743    0.806057   49.693429\n",
       "min       1.000000    0.000000    1.000000    0.000000    0.000000    0.000000\n",
       "25%     223.500000    0.000000    2.000000    0.000000    0.000000    7.910400\n",
       "50%     446.000000    0.000000    3.000000    0.000000    0.000000   14.454200\n",
       "75%     668.500000    1.000000    3.000000    1.000000    0.000000   31.000000\n",
       "max     891.000000    1.000000    3.000000    8.000000    6.000000  512.329200"
      ]
     },
     "execution_count": 114,
     "metadata": {},
     "output_type": "execute_result"
    }
   ],
   "source": [
    "## Here are the summary statistics for this project.\n",
    "tita1.describe()"
   ]
  },
  {
   "cell_type": "code",
   "execution_count": 126,
   "metadata": {},
   "outputs": [
    {
     "name": "stdout",
     "output_type": "stream",
     "text": [
      "0.3838383838383838\n",
      "0.122334455667789\n",
      "0.2615039281705948\n"
     ]
    }
   ],
   "source": [
    "## We see that only 38% of the entire ship survived the crash, hence I would like to see what things were most \n",
    "## important to surviving. We also see that around 2/3 women survived the crash while only 1/3 of the survivors \n",
    "## were male, showing how men were very courteous back then!\n",
    "print(sum(tita1['Survived'])/len(tita1))\n",
    "print(sum(tita1[tita1['Sex'] == 'male']['Survived'])/len(tita1))\n",
    "print(sum(tita1[tita1['Sex'] == 'female']['Survived'])/len(tita1))"
   ]
  },
  {
   "cell_type": "code",
   "execution_count": 123,
   "metadata": {},
   "outputs": [],
   "source": [
    "## Convert each null value to 0 for age. \n",
    "for i in range(len(tita1)):\n",
    "    if tita1.loc[i,'Age'] == '':\n",
    "        tita1.loc[i,'Age'] = 0"
   ]
  },
  {
   "cell_type": "code",
   "execution_count": 124,
   "metadata": {},
   "outputs": [
    {
     "data": {
      "text/plain": [
       "<matplotlib.axes._subplots.AxesSubplot at 0x1a23f5c2e8>"
      ]
     },
     "execution_count": 124,
     "metadata": {},
     "output_type": "execute_result"
    },
    {
     "data": {
      "image/png": "[encoded data removed]",
      "text/plain": [
       "<Figure size 1080x576 with 1 Axes>"
      ]
     },
     "metadata": {
      "needs_background": "light"
     },
     "output_type": "display_data"
    }
   ],
   "source": [
    "## We see that in this data set, the age of the passenger does not have a major significance on who survived or not. \n",
    "## However, the fare definitely seems to be important; the higher people paid, the more likely they were to \n",
    "## survive the crash. \n",
    "sns.scatterplot(tita1['Fare'],tita1['Age'],hue=tita1['Survived'])"
   ]
  },
  {
   "cell_type": "code",
   "execution_count": 118,
   "metadata": {},
   "outputs": [
    {
     "name": "stdout",
     "output_type": "stream",
     "text": [
      "<class 'pandas.core.frame.DataFrame'>\n",
      "RangeIndex: 891 entries, 0 to 890\n",
      "Data columns (total 12 columns):\n",
      "PassengerId    891 non-null float64\n",
      "Survived       891 non-null float64\n",
      "Pclass         891 non-null float64\n",
      "Name           891 non-null object\n",
      "Sex            891 non-null object\n",
      "Age            891 non-null object\n",
      "SibSp          891 non-null float64\n",
      "Parch          891 non-null float64\n",
      "Ticket         891 non-null object\n",
      "Fare           891 non-null float64\n",
      "Cabin          891 non-null object\n",
      "Embarked       891 non-null object\n",
      "dtypes: float64(6), object(6)\n",
      "memory usage: 83.6+ KB\n"
     ]
    }
   ],
   "source": [
    "tita1.info()"
   ]
  },
  {
   "cell_type": "code",
   "execution_count": null,
   "metadata": {},
   "outputs": [],
   "source": []
  }
 ],
 "metadata": {
  "kernelspec": {
   "display_name": "Python 3",
   "language": "python",
   "name": "python3"
  },
  "language_info": {
   "codemirror_mode": {
    "name": "ipython",
    "version": 3
   },
   "file_extension": ".py",
   "mimetype": "text/x-python",
   "name": "python",
   "nbconvert_exporter": "python",
   "pygments_lexer": "ipython3",
   "version": "3.6.6"
  }
 },
 "nbformat": 4,
 "nbformat_minor": 2
}
